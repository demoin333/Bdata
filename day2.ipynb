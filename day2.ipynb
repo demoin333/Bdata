{
 "cells": [
  {
   "cell_type": "code",
   "execution_count": 1,
   "metadata": {
    "collapsed": true,
    "pycharm": {
     "name": "#%%\n"
    }
   },
   "outputs": [
    {
     "data": {
      "text/plain": "4"
     },
     "execution_count": 1,
     "metadata": {},
     "output_type": "execute_result"
    }
   ],
   "source": [
    "import time\n",
    "\n",
    "2+2"
   ]
  },
  {
   "cell_type": "code",
   "execution_count": 8,
   "outputs": [
    {
     "data": {
      "text/plain": "15"
     },
     "execution_count": 8,
     "metadata": {},
     "output_type": "execute_result"
    }
   ],
   "source": [
    "def sum2(a,b, *args):\n",
    "    result = a+b\n",
    "    for i in args:\n",
    "        result = result + i\n",
    "    return result\n",
    "sum2(4,5,6)"
   ],
   "metadata": {
    "collapsed": false,
    "pycharm": {
     "name": "#%%\n"
    }
   }
  },
  {
   "cell_type": "code",
   "execution_count": 11,
   "outputs": [
    {
     "name": "stdout",
     "output_type": "stream",
     "text": [
      "------------------------------\n",
      "Heading\n",
      "----------\n",
      "Chapter1\n",
      "------------------------------\n"
     ]
    }
   ],
   "source": [
    "def pretty_print(head,text,border='*'):\n",
    "    print(border*30) #30 раз повторит\n",
    "    print(head)\n",
    "    print(border*10)\n",
    "    print(text)\n",
    "    print(border*30)\n",
    "pretty_print('Heading','Chapter1',border='-')"
   ],
   "metadata": {
    "collapsed": false,
    "pycharm": {
     "name": "#%%\n"
    }
   }
  },
  {
   "cell_type": "code",
   "execution_count": 18,
   "outputs": [
    {
     "name": "stdout",
     "output_type": "stream",
     "text": [
      "Prolog\n",
      "------------------------------\n",
      "Heading\n",
      "----------\n",
      "Chapter1\n",
      "------------------------------\n",
      "Epilog\n"
     ]
    }
   ],
   "source": [
    "def pretty_print(head, text, /, border='*', epilogue='', prolog='', **kwargs): # слеш говорит о том что показатели head и text могут быть только позиционными. **kwargs - произвольные кей-ворд агрументы\n",
    "    print (prolog)\n",
    "    print(border*30) #30 раз повторит\n",
    "    print(head)\n",
    "    print(border*10)\n",
    "    print(text)\n",
    "    print(border*30)\n",
    "    print(epilogue)\n",
    "pretty_print('Heading','Chapter1',border='-', epilogue= 'Epilog', prolog='Prolog')"
   ],
   "metadata": {
    "collapsed": false,
    "pycharm": {
     "name": "#%%\n"
    }
   }
  },
  {
   "cell_type": "code",
   "execution_count": 39,
   "outputs": [
    {
     "data": {
      "text/plain": "[1, 2, 3, 4]"
     },
     "execution_count": 39,
     "metadata": {},
     "output_type": "execute_result"
    }
   ],
   "source": [
    "def add_to_list(e1,l=[]):\n",
    "    l.append(e1)\n",
    "    return l\n",
    "l1=[1,2,3]\n",
    "add_to_list(4,l1)"
   ],
   "metadata": {
    "collapsed": false,
    "pycharm": {
     "name": "#%%\n"
    }
   }
  },
  {
   "cell_type": "code",
   "execution_count": 37,
   "outputs": [
    {
     "data": {
      "text/plain": "[5, 5, 5, 5, 5]"
     },
     "execution_count": 37,
     "metadata": {},
     "output_type": "execute_result"
    }
   ],
   "source": [
    "add_to_list(5)"
   ],
   "metadata": {
    "collapsed": false,
    "pycharm": {
     "name": "#%%\n"
    }
   }
  },
  {
   "cell_type": "code",
   "execution_count": 41,
   "outputs": [
    {
     "data": {
      "text/plain": "[1, 2, 3, 4]"
     },
     "execution_count": 41,
     "metadata": {},
     "output_type": "execute_result"
    }
   ],
   "source": [
    "def add_to_list(e1,l=None):\n",
    "    if l is None:\n",
    "        l = []\n",
    "    l.append(e1)\n",
    "    return l\n",
    "l1=[1,2,3]\n",
    "add_to_list(4,l1)"
   ],
   "metadata": {
    "collapsed": false,
    "pycharm": {
     "name": "#%%\n"
    }
   }
  },
  {
   "cell_type": "code",
   "execution_count": 43,
   "outputs": [
    {
     "data": {
      "text/plain": "[5]"
     },
     "execution_count": 43,
     "metadata": {},
     "output_type": "execute_result"
    }
   ],
   "source": [
    "add_to_list(5)"
   ],
   "metadata": {
    "collapsed": false,
    "pycharm": {
     "name": "#%%\n"
    }
   }
  },
  {
   "cell_type": "code",
   "execution_count": 44,
   "outputs": [
    {
     "data": {
      "text/plain": "[0, 1, 2, 3, 4, 5, 6, 7, 8, 9]"
     },
     "execution_count": 44,
     "metadata": {},
     "output_type": "execute_result"
    }
   ],
   "source": [
    "def get_list():\n",
    "    return list(range(10))\n",
    "get_list()"
   ],
   "metadata": {
    "collapsed": false,
    "pycharm": {
     "name": "#%%\n"
    }
   }
  },
  {
   "cell_type": "code",
   "execution_count": 50,
   "outputs": [
    {
     "name": "stdout",
     "output_type": "stream",
     "text": [
      "0\n",
      "1\n",
      "4\n",
      "9\n",
      "16\n",
      "25\n",
      "36\n",
      "49\n",
      "64\n",
      "81\n"
     ]
    }
   ],
   "source": [
    "def gen(): # генератор\n",
    "    a= (i**2 for i in range(10))\n",
    "    for i in a:\n",
    "        print(i)\n",
    "gen()"
   ],
   "metadata": {
    "collapsed": false,
    "pycharm": {
     "name": "#%%\n"
    }
   }
  },
  {
   "cell_type": "code",
   "execution_count": 56,
   "outputs": [
    {
     "name": "stdout",
     "output_type": "stream",
     "text": [
      "2 2\n"
     ]
    }
   ],
   "source": [
    "def my_f(x): # замыкание\n",
    "    y=2\n",
    "    def inner_func():\n",
    "        print(f'{x} {y}')\n",
    "    return inner_func()\n",
    "my_f(2)\n"
   ],
   "metadata": {
    "collapsed": false,
    "pycharm": {
     "name": "#%%\n"
    }
   }
  },
  {
   "cell_type": "code",
   "execution_count": 59,
   "outputs": [],
   "source": [
    "import functools  #декоратор\n",
    "def print_args(func):\n",
    "    @functools.wraps(func)\n",
    "    def wrapper(*args,**kwargs):\n",
    "        print(f'args={args}')\n",
    "        print(f'qwargs={kwargs}')\n",
    "        result = func(*args,**kwargs)\n",
    "        print(f'result={result}')\n",
    "        return result\n",
    "    return wrapper"
   ],
   "metadata": {
    "collapsed": false,
    "pycharm": {
     "name": "#%%\n"
    }
   }
  },
  {
   "cell_type": "code",
   "execution_count": 71,
   "outputs": [
    {
     "name": "stdout",
     "output_type": "stream",
     "text": [
      "args=(1, 2)\n",
      "qwargs={'test': True, 'test2': 'ok'}\n",
      "result=3\n"
     ]
    },
    {
     "data": {
      "text/plain": "3"
     },
     "execution_count": 71,
     "metadata": {},
     "output_type": "execute_result"
    }
   ],
   "source": [
    "@print_args #декоратор\n",
    "def sum2(a,b,**kwargs):\n",
    "    return a+b\n",
    "sum2(1,2, test = True, test2='ok')"
   ],
   "metadata": {
    "collapsed": false,
    "pycharm": {
     "name": "#%%\n"
    }
   }
  },
  {
   "cell_type": "code",
   "execution_count": 67,
   "outputs": [
    {
     "data": {
      "text/plain": "3"
     },
     "execution_count": 67,
     "metadata": {},
     "output_type": "execute_result"
    }
   ],
   "source": [
    "import time\n",
    "import functools\n",
    "\n",
    "dict = {}\n",
    "\n",
    "import functools  #декоратор\n",
    "def cache_value(func):\n",
    "    @functools.wraps(func)\n",
    "    def wrapper(*args,**kwargs):\n",
    "        if args in dict:\n",
    "            return dict[args]\n",
    "        else:\n",
    "            result = func(*args,**kwargs)\n",
    "            dict[args]= result\n",
    "            return result\n",
    "    return wrapper\n",
    "@cache_value\n",
    "def sum_long(a,b):\n",
    "    time.sleep(5)\n",
    "    return a+b\n",
    "sum_long(1,2)"
   ],
   "metadata": {
    "collapsed": false,
    "pycharm": {
     "name": "#%%\n"
    }
   }
  },
  {
   "cell_type": "code",
   "execution_count": 68,
   "outputs": [
    {
     "data": {
      "text/plain": "3"
     },
     "execution_count": 68,
     "metadata": {},
     "output_type": "execute_result"
    }
   ],
   "source": [
    "sum_long(1,2)"
   ],
   "metadata": {
    "collapsed": false,
    "pycharm": {
     "name": "#%%\n"
    }
   }
  },
  {
   "cell_type": "code",
   "execution_count": 69,
   "outputs": [
    {
     "data": {
      "text/plain": "[1, 2, 3, 4, 5, 6]"
     },
     "execution_count": 69,
     "metadata": {},
     "output_type": "execute_result"
    }
   ],
   "source": [
    "[1,2,3] + [4,5,6]"
   ],
   "metadata": {
    "collapsed": false,
    "pycharm": {
     "name": "#%%\n"
    }
   }
  },
  {
   "cell_type": "code",
   "execution_count": 73,
   "outputs": [],
   "source": [
    "del sum"
   ],
   "metadata": {
    "collapsed": false,
    "pycharm": {
     "name": "#%%\n"
    }
   }
  },
  {
   "cell_type": "code",
   "execution_count": 74,
   "outputs": [],
   "source": [
    "import builtins"
   ],
   "metadata": {
    "collapsed": false,
    "pycharm": {
     "name": "#%%\n"
    }
   }
  },
  {
   "cell_type": "code",
   "execution_count": 75,
   "outputs": [],
   "source": [
    "sum = builtins.sum"
   ],
   "metadata": {
    "collapsed": false,
    "pycharm": {
     "name": "#%%\n"
    }
   }
  },
  {
   "cell_type": "code",
   "execution_count": 87,
   "outputs": [
    {
     "data": {
      "text/plain": "[4, 6]"
     },
     "execution_count": 87,
     "metadata": {},
     "output_type": "execute_result"
    }
   ],
   "source": [
    "import time\n",
    "import functools\n",
    "import numpy as np\n",
    "\n",
    "import functools  #декоратор\n",
    "def sum_vector(func):\n",
    "    @functools.wraps(func)\n",
    "    def wrapper(*args,**kwargs):\n",
    "        if len(args) !=2:\n",
    "            raise ValueError('2 list')\n",
    "        if type(args[0]) == int or type(args[0]) == float:\n",
    "            func(*args,**kwargs)\n",
    "        if len(args[0]) != len(args[1]):\n",
    "            raise ValueError('List ravno')\n",
    "        result = []\n",
    "        size = len(args[0])\n",
    "        i=0\n",
    "        while i < size:\n",
    "            result.append(func(args[0][i],args[1][i]))\n",
    "            i=i+1\n",
    "        return result\n",
    "    return wrapper\n",
    "\n",
    "@sum_vector\n",
    "def sum2(a,b,**kwargs):\n",
    "    return a+b\n",
    "sum2([1,2],[3,4])"
   ],
   "metadata": {
    "collapsed": false,
    "pycharm": {
     "name": "#%%\n"
    }
   }
  },
  {
   "cell_type": "code",
   "execution_count": 88,
   "outputs": [
    {
     "data": {
      "text/plain": "16"
     },
     "execution_count": 88,
     "metadata": {},
     "output_type": "execute_result"
    }
   ],
   "source": [
    "sqv = lambda x: x**2\n",
    "sqv(4)"
   ],
   "metadata": {
    "collapsed": false,
    "pycharm": {
     "name": "#%%\n"
    }
   }
  },
  {
   "cell_type": "code",
   "execution_count": 91,
   "outputs": [
    {
     "data": {
      "text/plain": "43"
     },
     "execution_count": 91,
     "metadata": {},
     "output_type": "execute_result"
    }
   ],
   "source": [
    "lambda2  = lambda: 43\n",
    "lambda2()"
   ],
   "metadata": {
    "collapsed": false,
    "pycharm": {
     "name": "#%%\n"
    }
   }
  },
  {
   "cell_type": "code",
   "execution_count": 105,
   "outputs": [
    {
     "data": {
      "text/plain": "[1, 2, 4, 8, 16, 32, 64, 128, 256, 512]"
     },
     "execution_count": 105,
     "metadata": {},
     "output_type": "execute_result"
    }
   ],
   "source": [
    "a = lambda x: [x**p for p in range(10)]\n",
    "a(2)"
   ],
   "metadata": {
    "collapsed": false,
    "pycharm": {
     "name": "#%%\n"
    }
   }
  },
  {
   "cell_type": "code",
   "execution_count": 106,
   "outputs": [
    {
     "name": "stdout",
     "output_type": "stream",
     "text": [
      "[0, 1, 8, 27, 64, 125, 216, 343, 512, 729]\n"
     ]
    }
   ],
   "source": [
    "listInc = lambda x: [i**x for i in range(10)]\n",
    "print(listInc(3))"
   ],
   "metadata": {
    "collapsed": false,
    "pycharm": {
     "name": "#%%\n"
    }
   }
  },
  {
   "cell_type": "code",
   "execution_count": 108,
   "outputs": [
    {
     "data": {
      "text/plain": "[0, 2, 4, 6, 8]"
     },
     "execution_count": 108,
     "metadata": {},
     "output_type": "execute_result"
    }
   ],
   "source": [
    "l1  = list(range(10)) # возвращает четные числа\n",
    "list(filter(lambda x: x%2 == 0, l1))"
   ],
   "metadata": {
    "collapsed": false,
    "pycharm": {
     "name": "#%%\n"
    }
   }
  },
  {
   "cell_type": "code",
   "execution_count": 111,
   "outputs": [
    {
     "data": {
      "text/plain": "[0, 1, 4, 9, 16, 25, 36, 49, 64, 81]"
     },
     "execution_count": 111,
     "metadata": {},
     "output_type": "execute_result"
    }
   ],
   "source": [
    "list(map(lambda x: x**2,l1))"
   ],
   "metadata": {
    "collapsed": false,
    "pycharm": {
     "name": "#%%\n"
    }
   }
  },
  {
   "cell_type": "code",
   "execution_count": 112,
   "outputs": [
    {
     "data": {
      "text/plain": "45"
     },
     "execution_count": 112,
     "metadata": {},
     "output_type": "execute_result"
    }
   ],
   "source": [
    "from functools import reduce # сумма элементов списка\n",
    "reduce(lambda prev,curr: prev+curr, l1)"
   ],
   "metadata": {
    "collapsed": false,
    "pycharm": {
     "name": "#%%\n"
    }
   }
  },
  {
   "cell_type": "markdown",
   "source": [
    "Принципы ООП:\n",
    "Инкапсуляция - сокрытие деталей реализации\n",
    "Наследование - общие поля\n",
    "Полиморфизм - общее поведение\n",
    "Абстракция - выделение значимости свойства и поведение объекта\n",
    "Класс - это шаблон\n",
    "Инстранс - экземпляр класса, поля - переменные, методы -функции, свойства - поле+логика"
   ],
   "metadata": {
    "collapsed": false,
    "pycharm": {
     "name": "#%% md\n"
    }
   }
  },
  {
   "cell_type": "code",
   "execution_count": 119,
   "outputs": [
    {
     "name": "stdout",
     "output_type": "stream",
     "text": [
      "hello a\n"
     ]
    }
   ],
   "source": [
    "class Animal:\n",
    "    def great(self):\n",
    "        print(f'hello a')\n",
    "    pass\n",
    "bird  =Animal()\n",
    "bird.great()"
   ],
   "metadata": {
    "collapsed": false,
    "pycharm": {
     "name": "#%%\n"
    }
   }
  },
  {
   "cell_type": "code",
   "execution_count": 120,
   "outputs": [
    {
     "name": "stdout",
     "output_type": "stream",
     "text": [
      "hello a cat\n"
     ]
    }
   ],
   "source": [
    "class Cat(Animal):\n",
    "    def great(self):\n",
    "        print(f'hello a cat')\n",
    "    pass\n",
    "cat  = Cat()\n",
    "cat.great()"
   ],
   "metadata": {
    "collapsed": false,
    "pycharm": {
     "name": "#%%\n"
    }
   }
  },
  {
   "cell_type": "code",
   "execution_count": 121,
   "outputs": [
    {
     "name": "stdout",
     "output_type": "stream",
     "text": [
      "['__class__', '__delattr__', '__dict__', '__dir__', '__doc__', '__eq__', '__format__', '__ge__', '__getattribute__', '__gt__', '__hash__', '__init__', '__init_subclass__', '__le__', '__lt__', '__module__', '__ne__', '__new__', '__reduce__', '__reduce_ex__', '__repr__', '__setattr__', '__sizeof__', '__str__', '__subclasshook__', '__weakref__', 'great']\n"
     ]
    }
   ],
   "source": [
    "print(dir(cat))"
   ],
   "metadata": {
    "collapsed": false,
    "pycharm": {
     "name": "#%%\n"
    }
   }
  },
  {
   "cell_type": "code",
   "execution_count": 122,
   "outputs": [
    {
     "name": "stdout",
     "output_type": "stream",
     "text": [
      "['__class__', '__delattr__', '__dict__', '__dir__', '__doc__', '__eq__', '__format__', '__ge__', '__getattribute__', '__gt__', '__hash__', '__init__', '__init_subclass__', '__le__', '__lt__', '__module__', '__ne__', '__new__', '__reduce__', '__reduce_ex__', '__repr__', '__setattr__', '__sizeof__', '__str__', '__subclasshook__', '__weakref__', 'great']\n"
     ]
    }
   ],
   "source": [
    "print(dir(Animal))"
   ],
   "metadata": {
    "collapsed": false,
    "pycharm": {
     "name": "#%%\n"
    }
   }
  },
  {
   "cell_type": "code",
   "execution_count": 124,
   "outputs": [
    {
     "name": "stdout",
     "output_type": "stream",
     "text": [
      "hello a\n"
     ]
    }
   ],
   "source": [
    "Animal.great('123')"
   ],
   "metadata": {
    "collapsed": false,
    "pycharm": {
     "name": "#%%\n"
    }
   }
  },
  {
   "cell_type": "code",
   "execution_count": 130,
   "outputs": [
    {
     "name": "stdout",
     "output_type": "stream",
     "text": [
      "hello a 123\n"
     ]
    }
   ],
   "source": [
    "class Animal:\n",
    "    def test(self):\n",
    "        pass\n",
    "    def great(self,name):\n",
    "        self.test()\n",
    "        print(f'hello a {name}')\n",
    "    pass\n",
    "bird= Animal()\n",
    "Animal.great(bird,'123')"
   ],
   "metadata": {
    "collapsed": false,
    "pycharm": {
     "name": "#%%\n"
    }
   }
  },
  {
   "cell_type": "code",
   "execution_count": 152,
   "outputs": [
    {
     "data": {
      "text/plain": "[8, 6, 11]"
     },
     "execution_count": 152,
     "metadata": {},
     "output_type": "execute_result"
    }
   ],
   "source": [
    "import time\n",
    "import functools\n",
    "import numpy as np\n",
    "\n",
    "import functools  #декоратор\n",
    "def sum_vector1(func):\n",
    "    @functools.wraps(func)\n",
    "    def wrapper(*args,**kwargs):\n",
    "        if len(args) !=2:\n",
    "            raise ValueError('Должно быть 2 аргумента')\n",
    "        if type(args[0]) == int or type(args[0]) == float:\n",
    "            result = func(*args,**kwargs)\n",
    "            return result\n",
    "        if len(args[0]) != len(args[1]):\n",
    "            raise ValueError('Списки должны быть одного размера')\n",
    "        result = []\n",
    "        l1 = args[0]\n",
    "        l2 = args[1]\n",
    "        v1 = np.array(l1)\n",
    "        v2 = np.array(l2)\n",
    "        v3= v1+v2\n",
    "        result = list(v3)\n",
    "        return result\n",
    "    return wrapper\n",
    "\n",
    "@sum_vector1\n",
    "def sum3(*args):\n",
    "    return sum(args)\n",
    "sum3([5,2,6],[3,4,5])"
   ],
   "metadata": {
    "collapsed": false,
    "pycharm": {
     "name": "#%%\n"
    }
   }
  },
  {
   "cell_type": "code",
   "execution_count": 400,
   "outputs": [
    {
     "data": {
      "text/plain": "[24, 27, 29, 12, 8, 9, 10]"
     },
     "execution_count": 400,
     "metadata": {},
     "output_type": "execute_result"
    }
   ],
   "source": [
    "#ДЗ\n",
    "import time\n",
    "import functools\n",
    "def sum_vector3(func):\n",
    "    @functools.wraps(func)\n",
    "    def wrapper(*args,**kwargs):\n",
    "        if type(args[0]) == int or type(args[0]) == float:\n",
    "            result = func(*args,**kwargs)\n",
    "            return result\n",
    "        p = max([len(args[i]) for i in range(len(args))])\n",
    "        i=0\n",
    "        while i < len(args):\n",
    "            args[i].extend([0,] * (p - len(args[i])))\n",
    "            i+=1\n",
    "        result = list((sum(int(x[i]) for x in args) for i in range(p)))\n",
    "        return result\n",
    "    return wrapper\n",
    "\n",
    "@sum_vector3\n",
    "def sum4(*args):\n",
    "    return sum(args)\n",
    "sum4([1,2,3,5],[4,5,6,7,8,9,10],[7,8,9],[12,12,11])"
   ],
   "metadata": {
    "collapsed": false,
    "pycharm": {
     "name": "#%%\n"
    }
   }
  },
  {
   "cell_type": "code",
   "execution_count": 275,
   "outputs": [],
   "source": [
    "\n"
   ],
   "metadata": {
    "collapsed": false,
    "pycharm": {
     "name": "#%%\n"
    }
   }
  }
 ],
 "metadata": {
  "kernelspec": {
   "display_name": "Python 3",
   "language": "python",
   "name": "python3"
  },
  "language_info": {
   "codemirror_mode": {
    "name": "ipython",
    "version": 2
   },
   "file_extension": ".py",
   "mimetype": "text/x-python",
   "name": "python",
   "nbconvert_exporter": "python",
   "pygments_lexer": "ipython2",
   "version": "2.7.6"
  }
 },
 "nbformat": 4,
 "nbformat_minor": 0
}