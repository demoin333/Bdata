{
 "cells": [
  {
   "cell_type": "code",
   "execution_count": 1,
   "metadata": {
    "collapsed": true,
    "pycharm": {
     "name": "#%%\n"
    }
   },
   "outputs": [],
   "source": [
    "import pandas as pd\n",
    "from pandas import DataFrame, read_csv\n",
    "import matplotlib.pyplot as plt\n",
    "import sys\n",
    "import matplotlib\n",
    "%matplotlib inline"
   ]
  },
  {
   "cell_type": "code",
   "execution_count": 2,
   "outputs": [],
   "source": [
    "names = ['name1','name2','name3','name4','name5']\n",
    "birth = [968,155,156,126,456]"
   ],
   "metadata": {
    "collapsed": false,
    "pycharm": {
     "name": "#%%\n"
    }
   }
  },
  {
   "cell_type": "code",
   "execution_count": 3,
   "outputs": [
    {
     "data": {
      "text/plain": "[('name1', 968),\n ('name2', 155),\n ('name3', 156),\n ('name4', 126),\n ('name5', 456)]"
     },
     "execution_count": 3,
     "metadata": {},
     "output_type": "execute_result"
    }
   ],
   "source": [
    "babe = list(zip(names,birth))\n",
    "babe"
   ],
   "metadata": {
    "collapsed": false,
    "pycharm": {
     "name": "#%%\n"
    }
   }
  },
  {
   "cell_type": "code",
   "execution_count": 4,
   "outputs": [
    {
     "data": {
      "text/plain": "   Names  Birth\n0  name1    968\n1  name2    155\n2  name3    156\n3  name4    126\n4  name5    456",
      "text/html": "<div>\n<style scoped>\n    .dataframe tbody tr th:only-of-type {\n        vertical-align: middle;\n    }\n\n    .dataframe tbody tr th {\n        vertical-align: top;\n    }\n\n    .dataframe thead th {\n        text-align: right;\n    }\n</style>\n<table border=\"1\" class=\"dataframe\">\n  <thead>\n    <tr style=\"text-align: right;\">\n      <th></th>\n      <th>Names</th>\n      <th>Birth</th>\n    </tr>\n  </thead>\n  <tbody>\n    <tr>\n      <th>0</th>\n      <td>name1</td>\n      <td>968</td>\n    </tr>\n    <tr>\n      <th>1</th>\n      <td>name2</td>\n      <td>155</td>\n    </tr>\n    <tr>\n      <th>2</th>\n      <td>name3</td>\n      <td>156</td>\n    </tr>\n    <tr>\n      <th>3</th>\n      <td>name4</td>\n      <td>126</td>\n    </tr>\n    <tr>\n      <th>4</th>\n      <td>name5</td>\n      <td>456</td>\n    </tr>\n  </tbody>\n</table>\n</div>"
     },
     "execution_count": 4,
     "metadata": {},
     "output_type": "execute_result"
    }
   ],
   "source": [
    "df = pd.DataFrame(data=babe,columns=['Names','Birth'])\n",
    "df"
   ],
   "metadata": {
    "collapsed": false,
    "pycharm": {
     "name": "#%%\n"
    }
   }
  },
  {
   "cell_type": "code",
   "execution_count": 5,
   "outputs": [
    {
     "data": {
      "text/plain": "            Birth\ncount    5.000000\nmean   372.200000\nstd    359.351082\nmin    126.000000\n25%    155.000000\n50%    156.000000\n75%    456.000000\nmax    968.000000",
      "text/html": "<div>\n<style scoped>\n    .dataframe tbody tr th:only-of-type {\n        vertical-align: middle;\n    }\n\n    .dataframe tbody tr th {\n        vertical-align: top;\n    }\n\n    .dataframe thead th {\n        text-align: right;\n    }\n</style>\n<table border=\"1\" class=\"dataframe\">\n  <thead>\n    <tr style=\"text-align: right;\">\n      <th></th>\n      <th>Birth</th>\n    </tr>\n  </thead>\n  <tbody>\n    <tr>\n      <th>count</th>\n      <td>5.000000</td>\n    </tr>\n    <tr>\n      <th>mean</th>\n      <td>372.200000</td>\n    </tr>\n    <tr>\n      <th>std</th>\n      <td>359.351082</td>\n    </tr>\n    <tr>\n      <th>min</th>\n      <td>126.000000</td>\n    </tr>\n    <tr>\n      <th>25%</th>\n      <td>155.000000</td>\n    </tr>\n    <tr>\n      <th>50%</th>\n      <td>156.000000</td>\n    </tr>\n    <tr>\n      <th>75%</th>\n      <td>456.000000</td>\n    </tr>\n    <tr>\n      <th>max</th>\n      <td>968.000000</td>\n    </tr>\n  </tbody>\n</table>\n</div>"
     },
     "execution_count": 5,
     "metadata": {},
     "output_type": "execute_result"
    }
   ],
   "source": [
    "df.describe()"
   ],
   "metadata": {
    "collapsed": false,
    "pycharm": {
     "name": "#%%\n"
    }
   }
  },
  {
   "cell_type": "code",
   "execution_count": 6,
   "outputs": [
    {
     "data": {
      "text/plain": "'name5'"
     },
     "execution_count": 6,
     "metadata": {},
     "output_type": "execute_result"
    }
   ],
   "source": [
    "df['Names'].max()"
   ],
   "metadata": {
    "collapsed": false,
    "pycharm": {
     "name": "#%%\n"
    }
   }
  },
  {
   "cell_type": "code",
   "execution_count": 7,
   "outputs": [
    {
     "data": {
      "text/plain": "968"
     },
     "execution_count": 7,
     "metadata": {},
     "output_type": "execute_result"
    }
   ],
   "source": [
    "df['Birth'].max()"
   ],
   "metadata": {
    "collapsed": false,
    "pycharm": {
     "name": "#%%\n"
    }
   }
  },
  {
   "cell_type": "code",
   "execution_count": 8,
   "outputs": [
    {
     "data": {
      "text/plain": "   Names  Birth\n0  name1    968",
      "text/html": "<div>\n<style scoped>\n    .dataframe tbody tr th:only-of-type {\n        vertical-align: middle;\n    }\n\n    .dataframe tbody tr th {\n        vertical-align: top;\n    }\n\n    .dataframe thead th {\n        text-align: right;\n    }\n</style>\n<table border=\"1\" class=\"dataframe\">\n  <thead>\n    <tr style=\"text-align: right;\">\n      <th></th>\n      <th>Names</th>\n      <th>Birth</th>\n    </tr>\n  </thead>\n  <tbody>\n    <tr>\n      <th>0</th>\n      <td>name1</td>\n      <td>968</td>\n    </tr>\n  </tbody>\n</table>\n</div>"
     },
     "execution_count": 8,
     "metadata": {},
     "output_type": "execute_result"
    }
   ],
   "source": [
    "sorted_df = df.sort_values(['Birth'], ascending=False)\n",
    "sorted_df.head(1)"
   ],
   "metadata": {
    "collapsed": false,
    "pycharm": {
     "name": "#%%\n"
    }
   }
  },
  {
   "cell_type": "code",
   "execution_count": 19,
   "outputs": [
    {
     "data": {
      "text/plain": "Text(20, 10, \"['968-name1']\")"
     },
     "execution_count": 19,
     "metadata": {},
     "output_type": "execute_result"
    },
    {
     "data": {
      "text/plain": "<Figure size 640x480 with 1 Axes>",
      "image/png": "[encoded data removed]"
     },
     "metadata": {},
     "output_type": "display_data"
    }
   ],
   "source": [
    "df['Birth'].plot()\n",
    "\n",
    "max_value = df['Birth'].max()\n",
    "filter = df['Birth'] == max_value\n",
    "max_name = df['Names'][filter].values\n",
    "\n",
    "text = str(max_value) + '-' + max_name\n",
    "plt.annotate(text, xy=(1,max_value),xytext=(20,10), textcoords='offset points', xycoords=('axes fraction', 'data'), arrowprops={'arrowstyle': '-|>'})"
   ],
   "metadata": {
    "collapsed": false,
    "pycharm": {
     "name": "#%%\n"
    }
   }
  },
  {
   "cell_type": "code",
   "execution_count": 20,
   "outputs": [
    {
     "data": {
      "text/plain": "   Names  Birth\n0  name1    968\n1  name2    155\n2  name3    156\n3  name4    126\n4  name5    456",
      "text/html": "<div>\n<style scoped>\n    .dataframe tbody tr th:only-of-type {\n        vertical-align: middle;\n    }\n\n    .dataframe tbody tr th {\n        vertical-align: top;\n    }\n\n    .dataframe thead th {\n        text-align: right;\n    }\n</style>\n<table border=\"1\" class=\"dataframe\">\n  <thead>\n    <tr style=\"text-align: right;\">\n      <th></th>\n      <th>Names</th>\n      <th>Birth</th>\n    </tr>\n  </thead>\n  <tbody>\n    <tr>\n      <th>0</th>\n      <td>name1</td>\n      <td>968</td>\n    </tr>\n    <tr>\n      <th>1</th>\n      <td>name2</td>\n      <td>155</td>\n    </tr>\n    <tr>\n      <th>2</th>\n      <td>name3</td>\n      <td>156</td>\n    </tr>\n    <tr>\n      <th>3</th>\n      <td>name4</td>\n      <td>126</td>\n    </tr>\n    <tr>\n      <th>4</th>\n      <td>name5</td>\n      <td>456</td>\n    </tr>\n  </tbody>\n</table>\n</div>"
     },
     "execution_count": 20,
     "metadata": {},
     "output_type": "execute_result"
    }
   ],
   "source": [
    "df"
   ],
   "metadata": {
    "collapsed": false,
    "pycharm": {
     "name": "#%%\n"
    }
   }
  },
  {
   "cell_type": "code",
   "execution_count": 22,
   "outputs": [],
   "source": [
    "from numpy import random"
   ],
   "metadata": {
    "collapsed": false,
    "pycharm": {
     "name": "#%%\n"
    }
   }
  },
  {
   "cell_type": "code",
   "execution_count": 28,
   "outputs": [
    {
     "data": {
      "text/plain": "array([ 7, 44, 23, 38, 80, 45, 52,  1, 18, 98])"
     },
     "execution_count": 28,
     "metadata": {},
     "output_type": "execute_result"
    }
   ],
   "source": [
    "random.randint(1,100,10)"
   ],
   "metadata": {
    "collapsed": false,
    "pycharm": {
     "name": "#%%\n"
    }
   }
  },
  {
   "cell_type": "code",
   "execution_count": 48,
   "outputs": [
    {
     "data": {
      "text/plain": "[('Alex', 470),\n ('Alex', 175),\n ('Eva', 153),\n ('Eva', 980),\n ('Vika', 20),\n ('Vika', 411),\n ('Bob', 335),\n ('Vika', 673),\n ('Alex', 915),\n ('Bob', 257)]"
     },
     "execution_count": 48,
     "metadata": {},
     "output_type": "execute_result"
    }
   ],
   "source": [
    "names = ['Bob','Dilan','Eva','Alex','Vika']\n",
    "random.seed(341)\n",
    "random_name = [names[random.randint(0,len(names))] for i in range(1000)]\n",
    "random_name[:10]\n",
    "birth2 = [random.randint(0,1000) for i in range(1000)]\n",
    "birth2[:10]\n",
    "baby = list(zip(random_name,birth2))\n",
    "baby[0:10]"
   ],
   "metadata": {
    "collapsed": false,
    "pycharm": {
     "name": "#%%\n"
    }
   }
  },
  {
   "cell_type": "code",
   "execution_count": 51,
   "outputs": [
    {
     "data": {
      "text/plain": "  Names  Births\n0  Alex     470\n1  Alex     175\n2   Eva     153\n3   Eva     980\n4  Vika      20\n5  Vika     411\n6   Bob     335\n7  Vika     673\n8  Alex     915\n9   Bob     257",
      "text/html": "<div>\n<style scoped>\n    .dataframe tbody tr th:only-of-type {\n        vertical-align: middle;\n    }\n\n    .dataframe tbody tr th {\n        vertical-align: top;\n    }\n\n    .dataframe thead th {\n        text-align: right;\n    }\n</style>\n<table border=\"1\" class=\"dataframe\">\n  <thead>\n    <tr style=\"text-align: right;\">\n      <th></th>\n      <th>Names</th>\n      <th>Births</th>\n    </tr>\n  </thead>\n  <tbody>\n    <tr>\n      <th>0</th>\n      <td>Alex</td>\n      <td>470</td>\n    </tr>\n    <tr>\n      <th>1</th>\n      <td>Alex</td>\n      <td>175</td>\n    </tr>\n    <tr>\n      <th>2</th>\n      <td>Eva</td>\n      <td>153</td>\n    </tr>\n    <tr>\n      <th>3</th>\n      <td>Eva</td>\n      <td>980</td>\n    </tr>\n    <tr>\n      <th>4</th>\n      <td>Vika</td>\n      <td>20</td>\n    </tr>\n    <tr>\n      <th>5</th>\n      <td>Vika</td>\n      <td>411</td>\n    </tr>\n    <tr>\n      <th>6</th>\n      <td>Bob</td>\n      <td>335</td>\n    </tr>\n    <tr>\n      <th>7</th>\n      <td>Vika</td>\n      <td>673</td>\n    </tr>\n    <tr>\n      <th>8</th>\n      <td>Alex</td>\n      <td>915</td>\n    </tr>\n    <tr>\n      <th>9</th>\n      <td>Bob</td>\n      <td>257</td>\n    </tr>\n  </tbody>\n</table>\n</div>"
     },
     "execution_count": 51,
     "metadata": {},
     "output_type": "execute_result"
    }
   ],
   "source": [
    "df = pd.DataFrame(data=baby, columns=['Names','Births'])\n",
    "df[:10]"
   ],
   "metadata": {
    "collapsed": false,
    "pycharm": {
     "name": "#%%\n"
    }
   }
  },
  {
   "cell_type": "code",
   "execution_count": 52,
   "outputs": [],
   "source": [
    "df.to_csv('births1000.csv', index=False, header=False)"
   ],
   "metadata": {
    "collapsed": false,
    "pycharm": {
     "name": "#%%\n"
    }
   }
  },
  {
   "cell_type": "code",
   "execution_count": 54,
   "outputs": [
    {
     "data": {
      "text/plain": "    Names  Births\n0    Alex     470\n1    Alex     175\n2     Eva     153\n3     Eva     980\n4    Vika      20\n5    Vika     411\n6     Bob     335\n7    Vika     673\n8    Alex     915\n9     Bob     257\n10   Alex     551\n11   Vika     464\n12  Dilan     806\n13   Alex      18\n14    Eva     802\n15    Bob     499\n16    Bob     722\n17    Eva     694\n18   Vika     464\n19   Vika     402",
      "text/html": "<div>\n<style scoped>\n    .dataframe tbody tr th:only-of-type {\n        vertical-align: middle;\n    }\n\n    .dataframe tbody tr th {\n        vertical-align: top;\n    }\n\n    .dataframe thead th {\n        text-align: right;\n    }\n</style>\n<table border=\"1\" class=\"dataframe\">\n  <thead>\n    <tr style=\"text-align: right;\">\n      <th></th>\n      <th>Names</th>\n      <th>Births</th>\n    </tr>\n  </thead>\n  <tbody>\n    <tr>\n      <th>0</th>\n      <td>Alex</td>\n      <td>470</td>\n    </tr>\n    <tr>\n      <th>1</th>\n      <td>Alex</td>\n      <td>175</td>\n    </tr>\n    <tr>\n      <th>2</th>\n      <td>Eva</td>\n      <td>153</td>\n    </tr>\n    <tr>\n      <th>3</th>\n      <td>Eva</td>\n      <td>980</td>\n    </tr>\n    <tr>\n      <th>4</th>\n      <td>Vika</td>\n      <td>20</td>\n    </tr>\n    <tr>\n      <th>5</th>\n      <td>Vika</td>\n      <td>411</td>\n    </tr>\n    <tr>\n      <th>6</th>\n      <td>Bob</td>\n      <td>335</td>\n    </tr>\n    <tr>\n      <th>7</th>\n      <td>Vika</td>\n      <td>673</td>\n    </tr>\n    <tr>\n      <th>8</th>\n      <td>Alex</td>\n      <td>915</td>\n    </tr>\n    <tr>\n      <th>9</th>\n      <td>Bob</td>\n      <td>257</td>\n    </tr>\n    <tr>\n      <th>10</th>\n      <td>Alex</td>\n      <td>551</td>\n    </tr>\n    <tr>\n      <th>11</th>\n      <td>Vika</td>\n      <td>464</td>\n    </tr>\n    <tr>\n      <th>12</th>\n      <td>Dilan</td>\n      <td>806</td>\n    </tr>\n    <tr>\n      <th>13</th>\n      <td>Alex</td>\n      <td>18</td>\n    </tr>\n    <tr>\n      <th>14</th>\n      <td>Eva</td>\n      <td>802</td>\n    </tr>\n    <tr>\n      <th>15</th>\n      <td>Bob</td>\n      <td>499</td>\n    </tr>\n    <tr>\n      <th>16</th>\n      <td>Bob</td>\n      <td>722</td>\n    </tr>\n    <tr>\n      <th>17</th>\n      <td>Eva</td>\n      <td>694</td>\n    </tr>\n    <tr>\n      <th>18</th>\n      <td>Vika</td>\n      <td>464</td>\n    </tr>\n    <tr>\n      <th>19</th>\n      <td>Vika</td>\n      <td>402</td>\n    </tr>\n  </tbody>\n</table>\n</div>"
     },
     "execution_count": 54,
     "metadata": {},
     "output_type": "execute_result"
    }
   ],
   "source": [
    "df = pd.read_csv('births1000.csv', names=['Names','Births'])\n",
    "df.head(20)"
   ],
   "metadata": {
    "collapsed": false,
    "pycharm": {
     "name": "#%%\n"
    }
   }
  },
  {
   "cell_type": "code",
   "execution_count": 55,
   "outputs": [
    {
     "data": {
      "text/plain": "     Names  Births\n990    Eva     873\n991    Eva     508\n992    Bob       0\n993    Bob     844\n994   Vika     139\n995    Bob     861\n996   Vika     359\n997    Eva     105\n998    Bob     256\n999  Dilan     228",
      "text/html": "<div>\n<style scoped>\n    .dataframe tbody tr th:only-of-type {\n        vertical-align: middle;\n    }\n\n    .dataframe tbody tr th {\n        vertical-align: top;\n    }\n\n    .dataframe thead th {\n        text-align: right;\n    }\n</style>\n<table border=\"1\" class=\"dataframe\">\n  <thead>\n    <tr style=\"text-align: right;\">\n      <th></th>\n      <th>Names</th>\n      <th>Births</th>\n    </tr>\n  </thead>\n  <tbody>\n    <tr>\n      <th>990</th>\n      <td>Eva</td>\n      <td>873</td>\n    </tr>\n    <tr>\n      <th>991</th>\n      <td>Eva</td>\n      <td>508</td>\n    </tr>\n    <tr>\n      <th>992</th>\n      <td>Bob</td>\n      <td>0</td>\n    </tr>\n    <tr>\n      <th>993</th>\n      <td>Bob</td>\n      <td>844</td>\n    </tr>\n    <tr>\n      <th>994</th>\n      <td>Vika</td>\n      <td>139</td>\n    </tr>\n    <tr>\n      <th>995</th>\n      <td>Bob</td>\n      <td>861</td>\n    </tr>\n    <tr>\n      <th>996</th>\n      <td>Vika</td>\n      <td>359</td>\n    </tr>\n    <tr>\n      <th>997</th>\n      <td>Eva</td>\n      <td>105</td>\n    </tr>\n    <tr>\n      <th>998</th>\n      <td>Bob</td>\n      <td>256</td>\n    </tr>\n    <tr>\n      <th>999</th>\n      <td>Dilan</td>\n      <td>228</td>\n    </tr>\n  </tbody>\n</table>\n</div>"
     },
     "execution_count": 55,
     "metadata": {},
     "output_type": "execute_result"
    }
   ],
   "source": [
    "df.tail(10)"
   ],
   "metadata": {
    "collapsed": false,
    "pycharm": {
     "name": "#%%\n"
    }
   }
  },
  {
   "cell_type": "code",
   "execution_count": 59,
   "outputs": [
    {
     "data": {
      "text/plain": "array(['Alex', 'Eva', 'Vika', 'Bob', 'Dilan'], dtype=object)"
     },
     "execution_count": 59,
     "metadata": {},
     "output_type": "execute_result"
    }
   ],
   "source": [
    "df['Names'].unique()"
   ],
   "metadata": {
    "collapsed": false,
    "pycharm": {
     "name": "#%%\n"
    }
   }
  },
  {
   "cell_type": "code",
   "execution_count": 60,
   "outputs": [
    {
     "data": {
      "text/plain": "5"
     },
     "execution_count": 60,
     "metadata": {},
     "output_type": "execute_result"
    }
   ],
   "source": [
    "df['Names'].unique().size"
   ],
   "metadata": {
    "collapsed": false,
    "pycharm": {
     "name": "#%%\n"
    }
   }
  },
  {
   "cell_type": "code",
   "execution_count": 61,
   "outputs": [
    {
     "data": {
      "text/plain": "count     1000\nunique       5\ntop        Bob\nfreq       218\nName: Names, dtype: object"
     },
     "execution_count": 61,
     "metadata": {},
     "output_type": "execute_result"
    }
   ],
   "source": [
    "df['Names'].describe()"
   ],
   "metadata": {
    "collapsed": false,
    "pycharm": {
     "name": "#%%\n"
    }
   }
  },
  {
   "cell_type": "code",
   "execution_count": 77,
   "outputs": [
    {
     "data": {
      "text/plain": "    Names  Births\n0    Alex     470\n1    Alex     175\n2     Eva     153\n3     Eva     980\n4    Vika      20\n5    Vika     411\n6     Bob     335\n7    Vika     673\n8    Alex     915\n9     Bob     257\n10   Alex     551\n11   Vika     464\n12  Dilan     806\n13   Alex      18\n14    Eva     802\n15    Bob     499\n16    Bob     722\n17    Eva     694\n18   Vika     464\n20    Eva     538\n21  Dilan     219\n22    Bob     269\n23  Dilan     402\n30  Dilan     121\n34  Dilan     606",
      "text/html": "<div>\n<style scoped>\n    .dataframe tbody tr th:only-of-type {\n        vertical-align: middle;\n    }\n\n    .dataframe tbody tr th {\n        vertical-align: top;\n    }\n\n    .dataframe thead th {\n        text-align: right;\n    }\n</style>\n<table border=\"1\" class=\"dataframe\">\n  <thead>\n    <tr style=\"text-align: right;\">\n      <th></th>\n      <th>Names</th>\n      <th>Births</th>\n    </tr>\n  </thead>\n  <tbody>\n    <tr>\n      <th>0</th>\n      <td>Alex</td>\n      <td>470</td>\n    </tr>\n    <tr>\n      <th>1</th>\n      <td>Alex</td>\n      <td>175</td>\n    </tr>\n    <tr>\n      <th>2</th>\n      <td>Eva</td>\n      <td>153</td>\n    </tr>\n    <tr>\n      <th>3</th>\n      <td>Eva</td>\n      <td>980</td>\n    </tr>\n    <tr>\n      <th>4</th>\n      <td>Vika</td>\n      <td>20</td>\n    </tr>\n    <tr>\n      <th>5</th>\n      <td>Vika</td>\n      <td>411</td>\n    </tr>\n    <tr>\n      <th>6</th>\n      <td>Bob</td>\n      <td>335</td>\n    </tr>\n    <tr>\n      <th>7</th>\n      <td>Vika</td>\n      <td>673</td>\n    </tr>\n    <tr>\n      <th>8</th>\n      <td>Alex</td>\n      <td>915</td>\n    </tr>\n    <tr>\n      <th>9</th>\n      <td>Bob</td>\n      <td>257</td>\n    </tr>\n    <tr>\n      <th>10</th>\n      <td>Alex</td>\n      <td>551</td>\n    </tr>\n    <tr>\n      <th>11</th>\n      <td>Vika</td>\n      <td>464</td>\n    </tr>\n    <tr>\n      <th>12</th>\n      <td>Dilan</td>\n      <td>806</td>\n    </tr>\n    <tr>\n      <th>13</th>\n      <td>Alex</td>\n      <td>18</td>\n    </tr>\n    <tr>\n      <th>14</th>\n      <td>Eva</td>\n      <td>802</td>\n    </tr>\n    <tr>\n      <th>15</th>\n      <td>Bob</td>\n      <td>499</td>\n    </tr>\n    <tr>\n      <th>16</th>\n      <td>Bob</td>\n      <td>722</td>\n    </tr>\n    <tr>\n      <th>17</th>\n      <td>Eva</td>\n      <td>694</td>\n    </tr>\n    <tr>\n      <th>18</th>\n      <td>Vika</td>\n      <td>464</td>\n    </tr>\n    <tr>\n      <th>20</th>\n      <td>Eva</td>\n      <td>538</td>\n    </tr>\n    <tr>\n      <th>21</th>\n      <td>Dilan</td>\n      <td>219</td>\n    </tr>\n    <tr>\n      <th>22</th>\n      <td>Bob</td>\n      <td>269</td>\n    </tr>\n    <tr>\n      <th>23</th>\n      <td>Dilan</td>\n      <td>402</td>\n    </tr>\n    <tr>\n      <th>30</th>\n      <td>Dilan</td>\n      <td>121</td>\n    </tr>\n    <tr>\n      <th>34</th>\n      <td>Dilan</td>\n      <td>606</td>\n    </tr>\n  </tbody>\n</table>\n</div>"
     },
     "execution_count": 77,
     "metadata": {},
     "output_type": "execute_result"
    }
   ],
   "source": [
    "name = df.groupby('Names')\n",
    "name.head()"
   ],
   "metadata": {
    "collapsed": false,
    "pycharm": {
     "name": "#%%\n"
    }
   }
  },
  {
   "cell_type": "code",
   "execution_count": 79,
   "outputs": [
    {
     "data": {
      "text/plain": "       Births\nNames        \nAlex    96573\nBob    106217\nDilan   90380\nEva    102325\nVika   106163",
      "text/html": "<div>\n<style scoped>\n    .dataframe tbody tr th:only-of-type {\n        vertical-align: middle;\n    }\n\n    .dataframe tbody tr th {\n        vertical-align: top;\n    }\n\n    .dataframe thead th {\n        text-align: right;\n    }\n</style>\n<table border=\"1\" class=\"dataframe\">\n  <thead>\n    <tr style=\"text-align: right;\">\n      <th></th>\n      <th>Births</th>\n    </tr>\n    <tr>\n      <th>Names</th>\n      <th></th>\n    </tr>\n  </thead>\n  <tbody>\n    <tr>\n      <th>Alex</th>\n      <td>96573</td>\n    </tr>\n    <tr>\n      <th>Bob</th>\n      <td>106217</td>\n    </tr>\n    <tr>\n      <th>Dilan</th>\n      <td>90380</td>\n    </tr>\n    <tr>\n      <th>Eva</th>\n      <td>102325</td>\n    </tr>\n    <tr>\n      <th>Vika</th>\n      <td>106163</td>\n    </tr>\n  </tbody>\n</table>\n</div>"
     },
     "execution_count": 79,
     "metadata": {},
     "output_type": "execute_result"
    }
   ],
   "source": [
    "df = name.sum()\n",
    "df.head(10)"
   ],
   "metadata": {
    "collapsed": false,
    "pycharm": {
     "name": "#%%\n"
    }
   }
  },
  {
   "cell_type": "code",
   "execution_count": 82,
   "outputs": [
    {
     "data": {
      "text/plain": "       Births\nNames        \nBob    106217",
      "text/html": "<div>\n<style scoped>\n    .dataframe tbody tr th:only-of-type {\n        vertical-align: middle;\n    }\n\n    .dataframe tbody tr th {\n        vertical-align: top;\n    }\n\n    .dataframe thead th {\n        text-align: right;\n    }\n</style>\n<table border=\"1\" class=\"dataframe\">\n  <thead>\n    <tr style=\"text-align: right;\">\n      <th></th>\n      <th>Births</th>\n    </tr>\n    <tr>\n      <th>Names</th>\n      <th></th>\n    </tr>\n  </thead>\n  <tbody>\n    <tr>\n      <th>Bob</th>\n      <td>106217</td>\n    </tr>\n  </tbody>\n</table>\n</div>"
     },
     "execution_count": 82,
     "metadata": {},
     "output_type": "execute_result"
    }
   ],
   "source": [
    "sort = df.sort_values(['Births'],ascending=False)\n",
    "sort.head(1)"
   ],
   "metadata": {
    "collapsed": false,
    "pycharm": {
     "name": "#%%\n"
    }
   }
  },
  {
   "cell_type": "code",
   "execution_count": 87,
   "outputs": [
    {
     "data": {
      "text/plain": "<Axes: xlabel='Names'>"
     },
     "execution_count": 87,
     "metadata": {},
     "output_type": "execute_result"
    },
    {
     "data": {
      "text/plain": "<Figure size 640x480 with 1 Axes>",
      "image/png": "[encoded data removed]"
     },
     "metadata": {},
     "output_type": "display_data"
    }
   ],
   "source": [
    "df['Births'].plot.bar()"
   ],
   "metadata": {
    "collapsed": false,
    "pycharm": {
     "name": "#%%\n"
    }
   }
  },
  {
   "cell_type": "markdown",
   "source": [
    "Новый датасет\n",
    "Сгенерировать данные случайным образом"
   ],
   "metadata": {
    "collapsed": false,
    "pycharm": {
     "name": "#%% md\n"
    }
   }
  },
  {
   "cell_type": "markdown",
   "source": [
    "```text\n",
    "date_in       |  customer_count  | country_code  | status\n",
    "2024-01-01    |   901            | RU            | 1\n",
    "2024-01-02    |   901            | US            | 2\n",
    "2024-01-03    |   901            | KZ            | 3\n",
    "2024-01-04    |   901            | IT            | 1\n",
    "2024-01-05    |   901            | RU            | 4\n",
    "2024-01-06    |   901            | RU            | 1\n",
    "2024-01-01    |   901            | RU            | 1\n",
    "2024-01-02    |   901            | US            | 2\n",
    "2024-01-03    |   1023           | US            | 3\n",
    "2024-01-04    |   901            | IT            | 1\n",
    "2024-01-05    |   901            | RU            | 4\n",
    "2024-01-06    |   901            | RU            | 1\n",
    "```\n",
    "для примера датасет для диапазона 2024-01-01 - 2024-02-28 x 4"
   ],
   "metadata": {
    "collapsed": false,
    "pycharm": {
     "name": "#%% md\n"
    }
   }
  },
  {
   "cell_type": "code",
   "execution_count": 107,
   "outputs": [],
   "source": [
    "def create_dataset(number):\n",
    "    result=[]\n",
    "    country_codes = ['RU','Ru','US','us','KZ','IT','it','CA','Ca']\n",
    "    status = [1,2,3]\n",
    "    for i in range(number):\n",
    "        dates_rng = pd.date_range(start='2024-01-01', end='2024-02-28', freq='D')\n",
    "        rand_customer_count = random.randint(0,1000,len(dates_rng))\n",
    "        rand_status = [status[random.randint(0,len(status))] for i in range(0,len(dates_rng))]\n",
    "        rand_country_code = [country_codes[random.randint(0,len(country_codes))] for i in range(0,len(dates_rng))]\n",
    "        result.extend(zip(dates_rng,rand_customer_count,rand_country_code,rand_status))\n",
    "    return result"
   ],
   "metadata": {
    "collapsed": false,
    "pycharm": {
     "name": "#%%\n"
    }
   }
  },
  {
   "cell_type": "code",
   "execution_count": 108,
   "outputs": [
    {
     "data": {
      "text/plain": "       date_in  customer_count country_code  status\n0   2024-01-01             978           KZ       1\n1   2024-01-02             709           RU       1\n2   2024-01-03             296           US       1\n3   2024-01-04             918           US       3\n4   2024-01-05             743           RU       1\n..         ...             ...          ...     ...\n231 2024-02-24             841           CA       2\n232 2024-02-25              51           it       1\n233 2024-02-26             331           US       2\n234 2024-02-27             639           it       3\n235 2024-02-28             515           Ru       1\n\n[236 rows x 4 columns]",
      "text/html": "<div>\n<style scoped>\n    .dataframe tbody tr th:only-of-type {\n        vertical-align: middle;\n    }\n\n    .dataframe tbody tr th {\n        vertical-align: top;\n    }\n\n    .dataframe thead th {\n        text-align: right;\n    }\n</style>\n<table border=\"1\" class=\"dataframe\">\n  <thead>\n    <tr style=\"text-align: right;\">\n      <th></th>\n      <th>date_in</th>\n      <th>customer_count</th>\n      <th>country_code</th>\n      <th>status</th>\n    </tr>\n  </thead>\n  <tbody>\n    <tr>\n      <th>0</th>\n      <td>2024-01-01</td>\n      <td>978</td>\n      <td>KZ</td>\n      <td>1</td>\n    </tr>\n    <tr>\n      <th>1</th>\n      <td>2024-01-02</td>\n      <td>709</td>\n      <td>RU</td>\n      <td>1</td>\n    </tr>\n    <tr>\n      <th>2</th>\n      <td>2024-01-03</td>\n      <td>296</td>\n      <td>US</td>\n      <td>1</td>\n    </tr>\n    <tr>\n      <th>3</th>\n      <td>2024-01-04</td>\n      <td>918</td>\n      <td>US</td>\n      <td>3</td>\n    </tr>\n    <tr>\n      <th>4</th>\n      <td>2024-01-05</td>\n      <td>743</td>\n      <td>RU</td>\n      <td>1</td>\n    </tr>\n    <tr>\n      <th>...</th>\n      <td>...</td>\n      <td>...</td>\n      <td>...</td>\n      <td>...</td>\n    </tr>\n    <tr>\n      <th>231</th>\n      <td>2024-02-24</td>\n      <td>841</td>\n      <td>CA</td>\n      <td>2</td>\n    </tr>\n    <tr>\n      <th>232</th>\n      <td>2024-02-25</td>\n      <td>51</td>\n      <td>it</td>\n      <td>1</td>\n    </tr>\n    <tr>\n      <th>233</th>\n      <td>2024-02-26</td>\n      <td>331</td>\n      <td>US</td>\n      <td>2</td>\n    </tr>\n    <tr>\n      <th>234</th>\n      <td>2024-02-27</td>\n      <td>639</td>\n      <td>it</td>\n      <td>3</td>\n    </tr>\n    <tr>\n      <th>235</th>\n      <td>2024-02-28</td>\n      <td>515</td>\n      <td>Ru</td>\n      <td>1</td>\n    </tr>\n  </tbody>\n</table>\n<p>236 rows × 4 columns</p>\n</div>"
     },
     "execution_count": 108,
     "metadata": {},
     "output_type": "execute_result"
    }
   ],
   "source": [
    "dataset = create_dataset(number=4)\n",
    "df = pd.DataFrame(data=dataset, columns=['date_in','customer_count','country_code','status'])\n",
    "df"
   ],
   "metadata": {
    "collapsed": false,
    "pycharm": {
     "name": "#%%\n"
    }
   }
  },
  {
   "cell_type": "code",
   "execution_count": 109,
   "outputs": [],
   "source": [
    "df.to_excel('company_stats.xlsx',index=False)"
   ],
   "metadata": {
    "collapsed": false,
    "pycharm": {
     "name": "#%%\n"
    }
   }
  },
  {
   "cell_type": "code",
   "execution_count": 165,
   "outputs": [
    {
     "data": {
      "text/plain": "            customer_count country_code  status\ndate_in                                        \n2024-01-01             978           KZ       1\n2024-01-02             709           RU       1\n2024-01-03             296           US       1\n2024-01-04             918           US       3\n2024-01-05             743           RU       1",
      "text/html": "<div>\n<style scoped>\n    .dataframe tbody tr th:only-of-type {\n        vertical-align: middle;\n    }\n\n    .dataframe tbody tr th {\n        vertical-align: top;\n    }\n\n    .dataframe thead th {\n        text-align: right;\n    }\n</style>\n<table border=\"1\" class=\"dataframe\">\n  <thead>\n    <tr style=\"text-align: right;\">\n      <th></th>\n      <th>customer_count</th>\n      <th>country_code</th>\n      <th>status</th>\n    </tr>\n    <tr>\n      <th>date_in</th>\n      <th></th>\n      <th></th>\n      <th></th>\n    </tr>\n  </thead>\n  <tbody>\n    <tr>\n      <th>2024-01-01</th>\n      <td>978</td>\n      <td>KZ</td>\n      <td>1</td>\n    </tr>\n    <tr>\n      <th>2024-01-02</th>\n      <td>709</td>\n      <td>RU</td>\n      <td>1</td>\n    </tr>\n    <tr>\n      <th>2024-01-03</th>\n      <td>296</td>\n      <td>US</td>\n      <td>1</td>\n    </tr>\n    <tr>\n      <th>2024-01-04</th>\n      <td>918</td>\n      <td>US</td>\n      <td>3</td>\n    </tr>\n    <tr>\n      <th>2024-01-05</th>\n      <td>743</td>\n      <td>RU</td>\n      <td>1</td>\n    </tr>\n  </tbody>\n</table>\n</div>"
     },
     "execution_count": 165,
     "metadata": {},
     "output_type": "execute_result"
    }
   ],
   "source": [
    "df = pd.read_excel('company_stats.xlsx',0, index_col='date_in')\n",
    "df.head()"
   ],
   "metadata": {
    "collapsed": false,
    "pycharm": {
     "name": "#%%\n"
    }
   }
  },
  {
   "cell_type": "code",
   "execution_count": 136,
   "outputs": [
    {
     "data": {
      "text/plain": "DatetimeIndex(['2024-01-01', '2024-01-02', '2024-01-03', '2024-01-04',\n               '2024-01-05', '2024-01-06', '2024-01-07', '2024-01-08',\n               '2024-01-09', '2024-01-10',\n               ...\n               '2024-02-19', '2024-02-20', '2024-02-21', '2024-02-22',\n               '2024-02-23', '2024-02-24', '2024-02-25', '2024-02-26',\n               '2024-02-27', '2024-02-28'],\n              dtype='datetime64[ns]', name='date_in', length=236, freq=None)"
     },
     "execution_count": 136,
     "metadata": {},
     "output_type": "execute_result"
    }
   ],
   "source": [
    "df.index"
   ],
   "metadata": {
    "collapsed": false,
    "pycharm": {
     "name": "#%%\n"
    }
   }
  },
  {
   "cell_type": "code",
   "execution_count": 137,
   "outputs": [
    {
     "data": {
      "text/plain": "customer_count     int64\ncountry_code      object\nstatus             int64\ndtype: object"
     },
     "execution_count": 137,
     "metadata": {},
     "output_type": "execute_result"
    }
   ],
   "source": [
    "df.dtypes"
   ],
   "metadata": {
    "collapsed": false,
    "pycharm": {
     "name": "#%%\n"
    }
   }
  },
  {
   "cell_type": "code",
   "execution_count": 138,
   "outputs": [],
   "source": [
    "df['country_code'] = [i.upper() for i in df['country_code']] # 1 способ"
   ],
   "metadata": {
    "collapsed": false,
    "pycharm": {
     "name": "#%%\n"
    }
   }
  },
  {
   "cell_type": "code",
   "execution_count": 139,
   "outputs": [
    {
     "data": {
      "text/plain": "            customer_count country_code  status\ndate_in                                        \n2024-01-01             978           KZ       1\n2024-01-02             709           RU       1\n2024-01-03             296           US       1\n2024-01-04             918           US       3\n2024-01-05             743           RU       1\n...                    ...          ...     ...\n2024-02-24             841           CA       2\n2024-02-25              51           IT       1\n2024-02-26             331           US       2\n2024-02-27             639           IT       3\n2024-02-28             515           RU       1\n\n[236 rows x 3 columns]",
      "text/html": "<div>\n<style scoped>\n    .dataframe tbody tr th:only-of-type {\n        vertical-align: middle;\n    }\n\n    .dataframe tbody tr th {\n        vertical-align: top;\n    }\n\n    .dataframe thead th {\n        text-align: right;\n    }\n</style>\n<table border=\"1\" class=\"dataframe\">\n  <thead>\n    <tr style=\"text-align: right;\">\n      <th></th>\n      <th>customer_count</th>\n      <th>country_code</th>\n      <th>status</th>\n    </tr>\n    <tr>\n      <th>date_in</th>\n      <th></th>\n      <th></th>\n      <th></th>\n    </tr>\n  </thead>\n  <tbody>\n    <tr>\n      <th>2024-01-01</th>\n      <td>978</td>\n      <td>KZ</td>\n      <td>1</td>\n    </tr>\n    <tr>\n      <th>2024-01-02</th>\n      <td>709</td>\n      <td>RU</td>\n      <td>1</td>\n    </tr>\n    <tr>\n      <th>2024-01-03</th>\n      <td>296</td>\n      <td>US</td>\n      <td>1</td>\n    </tr>\n    <tr>\n      <th>2024-01-04</th>\n      <td>918</td>\n      <td>US</td>\n      <td>3</td>\n    </tr>\n    <tr>\n      <th>2024-01-05</th>\n      <td>743</td>\n      <td>RU</td>\n      <td>1</td>\n    </tr>\n    <tr>\n      <th>...</th>\n      <td>...</td>\n      <td>...</td>\n      <td>...</td>\n    </tr>\n    <tr>\n      <th>2024-02-24</th>\n      <td>841</td>\n      <td>CA</td>\n      <td>2</td>\n    </tr>\n    <tr>\n      <th>2024-02-25</th>\n      <td>51</td>\n      <td>IT</td>\n      <td>1</td>\n    </tr>\n    <tr>\n      <th>2024-02-26</th>\n      <td>331</td>\n      <td>US</td>\n      <td>2</td>\n    </tr>\n    <tr>\n      <th>2024-02-27</th>\n      <td>639</td>\n      <td>IT</td>\n      <td>3</td>\n    </tr>\n    <tr>\n      <th>2024-02-28</th>\n      <td>515</td>\n      <td>RU</td>\n      <td>1</td>\n    </tr>\n  </tbody>\n</table>\n<p>236 rows × 3 columns</p>\n</div>"
     },
     "execution_count": 139,
     "metadata": {},
     "output_type": "execute_result"
    }
   ],
   "source": [
    "df"
   ],
   "metadata": {
    "collapsed": false,
    "pycharm": {
     "name": "#%%\n"
    }
   }
  },
  {
   "cell_type": "code",
   "execution_count": 166,
   "outputs": [],
   "source": [
    "df['country_code'] = df.country_code.apply(lambda x: x.upper()) # 2 способ"
   ],
   "metadata": {
    "collapsed": false,
    "pycharm": {
     "name": "#%%\n"
    }
   }
  },
  {
   "cell_type": "code",
   "execution_count": 167,
   "outputs": [
    {
     "data": {
      "text/plain": "            customer_count country_code  status\ndate_in                                        \n2024-01-01             978           KZ       1\n2024-01-02             709           RU       1\n2024-01-03             296           US       1\n2024-01-04             918           US       3\n2024-01-05             743           RU       1\n...                    ...          ...     ...\n2024-02-24             841           CA       2\n2024-02-25              51           IT       1\n2024-02-26             331           US       2\n2024-02-27             639           IT       3\n2024-02-28             515           RU       1\n\n[236 rows x 3 columns]",
      "text/html": "<div>\n<style scoped>\n    .dataframe tbody tr th:only-of-type {\n        vertical-align: middle;\n    }\n\n    .dataframe tbody tr th {\n        vertical-align: top;\n    }\n\n    .dataframe thead th {\n        text-align: right;\n    }\n</style>\n<table border=\"1\" class=\"dataframe\">\n  <thead>\n    <tr style=\"text-align: right;\">\n      <th></th>\n      <th>customer_count</th>\n      <th>country_code</th>\n      <th>status</th>\n    </tr>\n    <tr>\n      <th>date_in</th>\n      <th></th>\n      <th></th>\n      <th></th>\n    </tr>\n  </thead>\n  <tbody>\n    <tr>\n      <th>2024-01-01</th>\n      <td>978</td>\n      <td>KZ</td>\n      <td>1</td>\n    </tr>\n    <tr>\n      <th>2024-01-02</th>\n      <td>709</td>\n      <td>RU</td>\n      <td>1</td>\n    </tr>\n    <tr>\n      <th>2024-01-03</th>\n      <td>296</td>\n      <td>US</td>\n      <td>1</td>\n    </tr>\n    <tr>\n      <th>2024-01-04</th>\n      <td>918</td>\n      <td>US</td>\n      <td>3</td>\n    </tr>\n    <tr>\n      <th>2024-01-05</th>\n      <td>743</td>\n      <td>RU</td>\n      <td>1</td>\n    </tr>\n    <tr>\n      <th>...</th>\n      <td>...</td>\n      <td>...</td>\n      <td>...</td>\n    </tr>\n    <tr>\n      <th>2024-02-24</th>\n      <td>841</td>\n      <td>CA</td>\n      <td>2</td>\n    </tr>\n    <tr>\n      <th>2024-02-25</th>\n      <td>51</td>\n      <td>IT</td>\n      <td>1</td>\n    </tr>\n    <tr>\n      <th>2024-02-26</th>\n      <td>331</td>\n      <td>US</td>\n      <td>2</td>\n    </tr>\n    <tr>\n      <th>2024-02-27</th>\n      <td>639</td>\n      <td>IT</td>\n      <td>3</td>\n    </tr>\n    <tr>\n      <th>2024-02-28</th>\n      <td>515</td>\n      <td>RU</td>\n      <td>1</td>\n    </tr>\n  </tbody>\n</table>\n<p>236 rows × 3 columns</p>\n</div>"
     },
     "execution_count": 167,
     "metadata": {},
     "output_type": "execute_result"
    }
   ],
   "source": [
    "df"
   ],
   "metadata": {
    "collapsed": false,
    "pycharm": {
     "name": "#%%\n"
    }
   }
  },
  {
   "cell_type": "code",
   "execution_count": 169,
   "outputs": [
    {
     "data": {
      "text/plain": "            customer_count country_code  status\ndate_in                                        \n2024-01-01             978           KZ       1\n2024-01-02             709           RU       1\n2024-01-03             296           US       1\n2024-01-05             743           RU       1\n2024-01-15             179           CA       1\n...                    ...          ...     ...\n2024-02-19             689           RU       1\n2024-02-22             890           RU       1\n2024-02-23              96           IT       1\n2024-02-25              51           IT       1\n2024-02-28             515           RU       1\n\n[72 rows x 3 columns]",
      "text/html": "<div>\n<style scoped>\n    .dataframe tbody tr th:only-of-type {\n        vertical-align: middle;\n    }\n\n    .dataframe tbody tr th {\n        vertical-align: top;\n    }\n\n    .dataframe thead th {\n        text-align: right;\n    }\n</style>\n<table border=\"1\" class=\"dataframe\">\n  <thead>\n    <tr style=\"text-align: right;\">\n      <th></th>\n      <th>customer_count</th>\n      <th>country_code</th>\n      <th>status</th>\n    </tr>\n    <tr>\n      <th>date_in</th>\n      <th></th>\n      <th></th>\n      <th></th>\n    </tr>\n  </thead>\n  <tbody>\n    <tr>\n      <th>2024-01-01</th>\n      <td>978</td>\n      <td>KZ</td>\n      <td>1</td>\n    </tr>\n    <tr>\n      <th>2024-01-02</th>\n      <td>709</td>\n      <td>RU</td>\n      <td>1</td>\n    </tr>\n    <tr>\n      <th>2024-01-03</th>\n      <td>296</td>\n      <td>US</td>\n      <td>1</td>\n    </tr>\n    <tr>\n      <th>2024-01-05</th>\n      <td>743</td>\n      <td>RU</td>\n      <td>1</td>\n    </tr>\n    <tr>\n      <th>2024-01-15</th>\n      <td>179</td>\n      <td>CA</td>\n      <td>1</td>\n    </tr>\n    <tr>\n      <th>...</th>\n      <td>...</td>\n      <td>...</td>\n      <td>...</td>\n    </tr>\n    <tr>\n      <th>2024-02-19</th>\n      <td>689</td>\n      <td>RU</td>\n      <td>1</td>\n    </tr>\n    <tr>\n      <th>2024-02-22</th>\n      <td>890</td>\n      <td>RU</td>\n      <td>1</td>\n    </tr>\n    <tr>\n      <th>2024-02-23</th>\n      <td>96</td>\n      <td>IT</td>\n      <td>1</td>\n    </tr>\n    <tr>\n      <th>2024-02-25</th>\n      <td>51</td>\n      <td>IT</td>\n      <td>1</td>\n    </tr>\n    <tr>\n      <th>2024-02-28</th>\n      <td>515</td>\n      <td>RU</td>\n      <td>1</td>\n    </tr>\n  </tbody>\n</table>\n<p>72 rows × 3 columns</p>\n</div>"
     },
     "execution_count": 169,
     "metadata": {},
     "output_type": "execute_result"
    }
   ],
   "source": [
    "filter_status = df['status']==1\n",
    "df = df[filter_status]\n",
    "#df2 = df[df['status'] == 1] # 2 способ\n",
    "df"
   ],
   "metadata": {
    "collapsed": false,
    "pycharm": {
     "name": "#%%\n"
    }
   }
  },
  {
   "cell_type": "code",
   "execution_count": 170,
   "outputs": [
    {
     "data": {
      "text/plain": "            customer_count country_code  status\ndate_in                                        \n2024-01-02             709           RU       1\n2024-01-05             743           RU       1\n2024-01-17             216           RU       1\n2024-01-18             685           RU       1\n2024-01-24             354           RU       1\n2024-01-25             594           RU       1\n2024-02-13             950           RU       1\n2024-02-22             211           RU       1\n2024-01-08             405           RU       1\n2024-01-15             605           RU       1\n2024-02-02             855           RU       1\n2024-02-14             309           RU       1\n2024-02-23             665           RU       1\n2024-01-02             435           RU       1\n2024-02-19             689           RU       1\n2024-02-22             890           RU       1\n2024-02-28             515           RU       1",
      "text/html": "<div>\n<style scoped>\n    .dataframe tbody tr th:only-of-type {\n        vertical-align: middle;\n    }\n\n    .dataframe tbody tr th {\n        vertical-align: top;\n    }\n\n    .dataframe thead th {\n        text-align: right;\n    }\n</style>\n<table border=\"1\" class=\"dataframe\">\n  <thead>\n    <tr style=\"text-align: right;\">\n      <th></th>\n      <th>customer_count</th>\n      <th>country_code</th>\n      <th>status</th>\n    </tr>\n    <tr>\n      <th>date_in</th>\n      <th></th>\n      <th></th>\n      <th></th>\n    </tr>\n  </thead>\n  <tbody>\n    <tr>\n      <th>2024-01-02</th>\n      <td>709</td>\n      <td>RU</td>\n      <td>1</td>\n    </tr>\n    <tr>\n      <th>2024-01-05</th>\n      <td>743</td>\n      <td>RU</td>\n      <td>1</td>\n    </tr>\n    <tr>\n      <th>2024-01-17</th>\n      <td>216</td>\n      <td>RU</td>\n      <td>1</td>\n    </tr>\n    <tr>\n      <th>2024-01-18</th>\n      <td>685</td>\n      <td>RU</td>\n      <td>1</td>\n    </tr>\n    <tr>\n      <th>2024-01-24</th>\n      <td>354</td>\n      <td>RU</td>\n      <td>1</td>\n    </tr>\n    <tr>\n      <th>2024-01-25</th>\n      <td>594</td>\n      <td>RU</td>\n      <td>1</td>\n    </tr>\n    <tr>\n      <th>2024-02-13</th>\n      <td>950</td>\n      <td>RU</td>\n      <td>1</td>\n    </tr>\n    <tr>\n      <th>2024-02-22</th>\n      <td>211</td>\n      <td>RU</td>\n      <td>1</td>\n    </tr>\n    <tr>\n      <th>2024-01-08</th>\n      <td>405</td>\n      <td>RU</td>\n      <td>1</td>\n    </tr>\n    <tr>\n      <th>2024-01-15</th>\n      <td>605</td>\n      <td>RU</td>\n      <td>1</td>\n    </tr>\n    <tr>\n      <th>2024-02-02</th>\n      <td>855</td>\n      <td>RU</td>\n      <td>1</td>\n    </tr>\n    <tr>\n      <th>2024-02-14</th>\n      <td>309</td>\n      <td>RU</td>\n      <td>1</td>\n    </tr>\n    <tr>\n      <th>2024-02-23</th>\n      <td>665</td>\n      <td>RU</td>\n      <td>1</td>\n    </tr>\n    <tr>\n      <th>2024-01-02</th>\n      <td>435</td>\n      <td>RU</td>\n      <td>1</td>\n    </tr>\n    <tr>\n      <th>2024-02-19</th>\n      <td>689</td>\n      <td>RU</td>\n      <td>1</td>\n    </tr>\n    <tr>\n      <th>2024-02-22</th>\n      <td>890</td>\n      <td>RU</td>\n      <td>1</td>\n    </tr>\n    <tr>\n      <th>2024-02-28</th>\n      <td>515</td>\n      <td>RU</td>\n      <td>1</td>\n    </tr>\n  </tbody>\n</table>\n</div>"
     },
     "execution_count": 170,
     "metadata": {},
     "output_type": "execute_result"
    }
   ],
   "source": [
    "filter_country = df['country_code']=='RU'\n",
    "df = df[filter_country]\n",
    "df"
   ],
   "metadata": {
    "collapsed": false,
    "pycharm": {
     "name": "#%%\n"
    }
   }
  },
  {
   "cell_type": "code",
   "execution_count": null,
   "outputs": [],
   "source": [],
   "metadata": {
    "collapsed": false,
    "pycharm": {
     "name": "#%%\n"
    }
   }
  }
 ],
 "metadata": {
  "kernelspec": {
   "display_name": "Python 3",
   "language": "python",
   "name": "python3"
  },
  "language_info": {
   "codemirror_mode": {
    "name": "ipython",
    "version": 2
   },
   "file_extension": ".py",
   "mimetype": "text/x-python",
   "name": "python",
   "nbconvert_exporter": "python",
   "pygments_lexer": "ipython2",
   "version": "2.7.6"
  }
 },
 "nbformat": 4,
 "nbformat_minor": 0
}