{
 "cells": [
  {
   "cell_type": "code",
   "execution_count": 56,
   "metadata": {
    "collapsed": true,
    "pycharm": {
     "name": "#%%\n"
    }
   },
   "outputs": [
    {
     "name": "stdout",
     "output_type": "stream",
     "text": [
      "Суммированный список = [24, 48, 5578, 12, 5, 5, 6, 7]\n"
     ]
    }
   ],
   "source": [
    "#ДЗ\n",
    "import functools\n",
    "def sum_vector3(func):\n",
    "    @functools.wraps(func)\n",
    "    def wrapper(*args,**kwargs):\n",
    "        if type(args[0]) == int or type(args[0]) == float:\n",
    "            result = func(*args,**kwargs)\n",
    "            return result\n",
    "        p = max([len(args[i]) for i in range(len(args))])\n",
    "        f1 = lambda x: [args[i].extend([0,] * (x - len(args[i]))) for i in range(len(args))]\n",
    "        f1(p)\n",
    "        try:\n",
    "            result = list((sum(int(x[i]) for x in args) for i in range(p)))\n",
    "            return print(f'Суммированный список = {result}')\n",
    "        except:\n",
    "            i=0\n",
    "            while i < len(args):\n",
    "                for y in range(len(args[i])):\n",
    "                    if type(args[i][y]) != int and type(args[i][y]) != float:\n",
    "                        erx = [i for i in args[i] if i != 0]\n",
    "                i+=1\n",
    "            print(f'В списке присутствует элемент, имеющий не числовое значение - {erx}')\n",
    "    return wrapper\n",
    "\n",
    "@sum_vector3\n",
    "def sum4(*args):\n",
    "    return sum(args)\n",
    "\n",
    "sum4([1,2,3],[2,22],[7,8,9],[12,12,11,12,5,5,6,7],[2,4,5555])"
   ]
  },
  {
   "cell_type": "code",
   "execution_count": null,
   "outputs": [],
   "source": [],
   "metadata": {
    "collapsed": false,
    "pycharm": {
     "name": "#%%\n"
    }
   }
  }
 ],
 "metadata": {
  "kernelspec": {
   "display_name": "Python 3",
   "language": "python",
   "name": "python3"
  },
  "language_info": {
   "codemirror_mode": {
    "name": "ipython",
    "version": 2
   },
   "file_extension": ".py",
   "mimetype": "text/x-python",
   "name": "python",
   "nbconvert_exporter": "python",
   "pygments_lexer": "ipython2",
   "version": "2.7.6"
  }
 },
 "nbformat": 4,
 "nbformat_minor": 0
}